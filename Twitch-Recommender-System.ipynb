{
 "cells": [
  {
   "cell_type": "code",
   "execution_count": 1,
   "id": "48dfdd20",
   "metadata": {},
   "outputs": [],
   "source": [
    "import pandas as pd\n",
    "import numpy as np\n",
    "\n",
    "pd.options.mode.chained_assignment = None"
   ]
  },
  {
   "cell_type": "markdown",
   "id": "8fb97712",
   "metadata": {},
   "source": [
    "### Analyze Dataset"
   ]
  },
  {
   "cell_type": "code",
   "execution_count": 2,
   "id": "ba5229a3",
   "metadata": {},
   "outputs": [],
   "source": [
    "df = pd.read_csv('dataset/100k_a.csv')"
   ]
  },
  {
   "cell_type": "code",
   "execution_count": 3,
   "id": "19ff1d76",
   "metadata": {},
   "outputs": [
    {
     "data": {
      "text/html": [
       "<div>\n",
       "<style scoped>\n",
       "    .dataframe tbody tr th:only-of-type {\n",
       "        vertical-align: middle;\n",
       "    }\n",
       "\n",
       "    .dataframe tbody tr th {\n",
       "        vertical-align: top;\n",
       "    }\n",
       "\n",
       "    .dataframe thead th {\n",
       "        text-align: right;\n",
       "    }\n",
       "</style>\n",
       "<table border=\"1\" class=\"dataframe\">\n",
       "  <thead>\n",
       "    <tr style=\"text-align: right;\">\n",
       "      <th></th>\n",
       "      <th>1</th>\n",
       "      <th>33842865744</th>\n",
       "      <th>mithrain</th>\n",
       "      <th>154</th>\n",
       "      <th>156</th>\n",
       "    </tr>\n",
       "  </thead>\n",
       "  <tbody>\n",
       "    <tr>\n",
       "      <th>0</th>\n",
       "      <td>1</td>\n",
       "      <td>33846768288</td>\n",
       "      <td>alptv</td>\n",
       "      <td>166</td>\n",
       "      <td>169</td>\n",
       "    </tr>\n",
       "    <tr>\n",
       "      <th>1</th>\n",
       "      <td>1</td>\n",
       "      <td>33886469056</td>\n",
       "      <td>mithrain</td>\n",
       "      <td>587</td>\n",
       "      <td>588</td>\n",
       "    </tr>\n",
       "    <tr>\n",
       "      <th>2</th>\n",
       "      <td>1</td>\n",
       "      <td>33887624992</td>\n",
       "      <td>wtcn</td>\n",
       "      <td>589</td>\n",
       "      <td>591</td>\n",
       "    </tr>\n",
       "    <tr>\n",
       "      <th>3</th>\n",
       "      <td>1</td>\n",
       "      <td>33890145056</td>\n",
       "      <td>jrokezftw</td>\n",
       "      <td>591</td>\n",
       "      <td>594</td>\n",
       "    </tr>\n",
       "    <tr>\n",
       "      <th>4</th>\n",
       "      <td>1</td>\n",
       "      <td>33903958784</td>\n",
       "      <td>berkriptepe</td>\n",
       "      <td>734</td>\n",
       "      <td>737</td>\n",
       "    </tr>\n",
       "  </tbody>\n",
       "</table>\n",
       "</div>"
      ],
      "text/plain": [
       "   1  33842865744     mithrain  154  156\n",
       "0  1  33846768288        alptv  166  169\n",
       "1  1  33886469056     mithrain  587  588\n",
       "2  1  33887624992         wtcn  589  591\n",
       "3  1  33890145056    jrokezftw  591  594\n",
       "4  1  33903958784  berkriptepe  734  737"
      ]
     },
     "execution_count": 3,
     "metadata": {},
     "output_type": "execute_result"
    }
   ],
   "source": [
    "df.head()"
   ]
  },
  {
   "cell_type": "code",
   "execution_count": 4,
   "id": "cb744c2e",
   "metadata": {},
   "outputs": [],
   "source": [
    "df = pd.read_csv('dataset/100k_a.csv', names=['user_id', 'stream_id', 'streamer_name', 'start_time', 'stop_time'])"
   ]
  },
  {
   "cell_type": "code",
   "execution_count": 5,
   "id": "921a7c1c",
   "metadata": {},
   "outputs": [
    {
     "data": {
      "text/html": [
       "<div>\n",
       "<style scoped>\n",
       "    .dataframe tbody tr th:only-of-type {\n",
       "        vertical-align: middle;\n",
       "    }\n",
       "\n",
       "    .dataframe tbody tr th {\n",
       "        vertical-align: top;\n",
       "    }\n",
       "\n",
       "    .dataframe thead th {\n",
       "        text-align: right;\n",
       "    }\n",
       "</style>\n",
       "<table border=\"1\" class=\"dataframe\">\n",
       "  <thead>\n",
       "    <tr style=\"text-align: right;\">\n",
       "      <th></th>\n",
       "      <th>user_id</th>\n",
       "      <th>stream_id</th>\n",
       "      <th>streamer_name</th>\n",
       "      <th>start_time</th>\n",
       "      <th>stop_time</th>\n",
       "    </tr>\n",
       "  </thead>\n",
       "  <tbody>\n",
       "    <tr>\n",
       "      <th>0</th>\n",
       "      <td>1</td>\n",
       "      <td>33842865744</td>\n",
       "      <td>mithrain</td>\n",
       "      <td>154</td>\n",
       "      <td>156</td>\n",
       "    </tr>\n",
       "    <tr>\n",
       "      <th>1</th>\n",
       "      <td>1</td>\n",
       "      <td>33846768288</td>\n",
       "      <td>alptv</td>\n",
       "      <td>166</td>\n",
       "      <td>169</td>\n",
       "    </tr>\n",
       "    <tr>\n",
       "      <th>2</th>\n",
       "      <td>1</td>\n",
       "      <td>33886469056</td>\n",
       "      <td>mithrain</td>\n",
       "      <td>587</td>\n",
       "      <td>588</td>\n",
       "    </tr>\n",
       "    <tr>\n",
       "      <th>3</th>\n",
       "      <td>1</td>\n",
       "      <td>33887624992</td>\n",
       "      <td>wtcn</td>\n",
       "      <td>589</td>\n",
       "      <td>591</td>\n",
       "    </tr>\n",
       "    <tr>\n",
       "      <th>4</th>\n",
       "      <td>1</td>\n",
       "      <td>33890145056</td>\n",
       "      <td>jrokezftw</td>\n",
       "      <td>591</td>\n",
       "      <td>594</td>\n",
       "    </tr>\n",
       "  </tbody>\n",
       "</table>\n",
       "</div>"
      ],
      "text/plain": [
       "   user_id    stream_id streamer_name  start_time  stop_time\n",
       "0        1  33842865744      mithrain         154        156\n",
       "1        1  33846768288         alptv         166        169\n",
       "2        1  33886469056      mithrain         587        588\n",
       "3        1  33887624992          wtcn         589        591\n",
       "4        1  33890145056     jrokezftw         591        594"
      ]
     },
     "execution_count": 5,
     "metadata": {},
     "output_type": "execute_result"
    }
   ],
   "source": [
    "df.head()"
   ]
  },
  {
   "cell_type": "code",
   "execution_count": 6,
   "id": "4fa61a03",
   "metadata": {},
   "outputs": [
    {
     "data": {
      "text/plain": [
       "(3051733, 5)"
      ]
     },
     "execution_count": 6,
     "metadata": {},
     "output_type": "execute_result"
    }
   ],
   "source": [
    "df.shape"
   ]
  },
  {
   "cell_type": "code",
   "execution_count": 7,
   "id": "873cb4a5",
   "metadata": {},
   "outputs": [
    {
     "name": "stdout",
     "output_type": "stream",
     "text": [
      "<class 'pandas.core.frame.DataFrame'>\n",
      "RangeIndex: 3051733 entries, 0 to 3051732\n",
      "Data columns (total 5 columns):\n",
      " #   Column         Dtype \n",
      "---  ------         ----- \n",
      " 0   user_id        int64 \n",
      " 1   stream_id      int64 \n",
      " 2   streamer_name  object\n",
      " 3   start_time     int64 \n",
      " 4   stop_time      int64 \n",
      "dtypes: int64(4), object(1)\n",
      "memory usage: 116.4+ MB\n"
     ]
    }
   ],
   "source": [
    "df.info()"
   ]
  },
  {
   "cell_type": "code",
   "execution_count": 8,
   "id": "b97ea1c6",
   "metadata": {},
   "outputs": [
    {
     "data": {
      "text/html": [
       "<div>\n",
       "<style scoped>\n",
       "    .dataframe tbody tr th:only-of-type {\n",
       "        vertical-align: middle;\n",
       "    }\n",
       "\n",
       "    .dataframe tbody tr th {\n",
       "        vertical-align: top;\n",
       "    }\n",
       "\n",
       "    .dataframe thead th {\n",
       "        text-align: right;\n",
       "    }\n",
       "</style>\n",
       "<table border=\"1\" class=\"dataframe\">\n",
       "  <thead>\n",
       "    <tr style=\"text-align: right;\">\n",
       "      <th></th>\n",
       "      <th>user_id</th>\n",
       "      <th>stream_id</th>\n",
       "      <th>start_time</th>\n",
       "      <th>stop_time</th>\n",
       "    </tr>\n",
       "  </thead>\n",
       "  <tbody>\n",
       "    <tr>\n",
       "      <th>count</th>\n",
       "      <td>3.051733e+06</td>\n",
       "      <td>3.051733e+06</td>\n",
       "      <td>3.051733e+06</td>\n",
       "      <td>3.051733e+06</td>\n",
       "    </tr>\n",
       "    <tr>\n",
       "      <th>mean</th>\n",
       "      <td>5.032313e+04</td>\n",
       "      <td>3.413002e+10</td>\n",
       "      <td>3.146044e+03</td>\n",
       "      <td>3.149186e+03</td>\n",
       "    </tr>\n",
       "    <tr>\n",
       "      <th>std</th>\n",
       "      <td>2.889476e+04</td>\n",
       "      <td>1.682242e+08</td>\n",
       "      <td>1.772520e+03</td>\n",
       "      <td>1.772656e+03</td>\n",
       "    </tr>\n",
       "    <tr>\n",
       "      <th>min</th>\n",
       "      <td>1.000000e+00</td>\n",
       "      <td>3.380153e+10</td>\n",
       "      <td>0.000000e+00</td>\n",
       "      <td>1.000000e+00</td>\n",
       "    </tr>\n",
       "    <tr>\n",
       "      <th>25%</th>\n",
       "      <td>2.528400e+04</td>\n",
       "      <td>3.398884e+10</td>\n",
       "      <td>1.618000e+03</td>\n",
       "      <td>1.620000e+03</td>\n",
       "    </tr>\n",
       "    <tr>\n",
       "      <th>50%</th>\n",
       "      <td>5.029900e+04</td>\n",
       "      <td>3.413069e+10</td>\n",
       "      <td>3.174000e+03</td>\n",
       "      <td>3.178000e+03</td>\n",
       "    </tr>\n",
       "    <tr>\n",
       "      <th>75%</th>\n",
       "      <td>7.545200e+04</td>\n",
       "      <td>3.427399e+10</td>\n",
       "      <td>4.676000e+03</td>\n",
       "      <td>4.679000e+03</td>\n",
       "    </tr>\n",
       "    <tr>\n",
       "      <th>max</th>\n",
       "      <td>1.000000e+05</td>\n",
       "      <td>3.441642e+10</td>\n",
       "      <td>6.147000e+03</td>\n",
       "      <td>6.148000e+03</td>\n",
       "    </tr>\n",
       "  </tbody>\n",
       "</table>\n",
       "</div>"
      ],
      "text/plain": [
       "            user_id     stream_id    start_time     stop_time\n",
       "count  3.051733e+06  3.051733e+06  3.051733e+06  3.051733e+06\n",
       "mean   5.032313e+04  3.413002e+10  3.146044e+03  3.149186e+03\n",
       "std    2.889476e+04  1.682242e+08  1.772520e+03  1.772656e+03\n",
       "min    1.000000e+00  3.380153e+10  0.000000e+00  1.000000e+00\n",
       "25%    2.528400e+04  3.398884e+10  1.618000e+03  1.620000e+03\n",
       "50%    5.029900e+04  3.413069e+10  3.174000e+03  3.178000e+03\n",
       "75%    7.545200e+04  3.427399e+10  4.676000e+03  4.679000e+03\n",
       "max    1.000000e+05  3.441642e+10  6.147000e+03  6.148000e+03"
      ]
     },
     "execution_count": 8,
     "metadata": {},
     "output_type": "execute_result"
    }
   ],
   "source": [
    "df.describe()"
   ]
  },
  {
   "cell_type": "code",
   "execution_count": 9,
   "id": "7954a63c",
   "metadata": {
    "scrolled": true
   },
   "outputs": [
    {
     "data": {
      "text/plain": [
       "ninja             45144\n",
       "tfue              40136\n",
       "shroud            27362\n",
       "riotgames         17633\n",
       "sodapoppin        14590\n",
       "                  ...  \n",
       "thescruffman92        1\n",
       "imbeergoggles         1\n",
       "crhuou                1\n",
       "dark5sky              1\n",
       "temptedtrigger        1\n",
       "Name: streamer_name, Length: 162625, dtype: int64"
      ]
     },
     "execution_count": 9,
     "metadata": {},
     "output_type": "execute_result"
    }
   ],
   "source": [
    "df['streamer_name'].value_counts()"
   ]
  },
  {
   "cell_type": "markdown",
   "id": "7c391cf6",
   "metadata": {},
   "source": [
    "### Split Train, Test & Validation Sets"
   ]
  },
  {
   "cell_type": "code",
   "execution_count": 10,
   "id": "0ee62f6a",
   "metadata": {},
   "outputs": [],
   "source": [
    "# همین اول کاری باید دیتای آموزش رو از تست جدا کنیم. چون با بازه های زمانی سر و کار داریم و کل دیتا در 43 روز جمع شده،\n",
    "# فکر می کنم که خوب باشه بیایم مثلا 5 روز آخر رو بعنوان تست در نظر بگیریم و قبل اون رو به دیتای آموزش اختصاص بدیم"
   ]
  },
  {
   "cell_type": "markdown",
   "id": "c6baab9f",
   "metadata": {},
   "source": [
    "0 - 1 &#8594; 10 min<br>\n",
    "0 - 2 &#8594; 20 min<br>\n",
    "0 - 3 &#8594; 30 min<br>\n",
    "0 - 4 &#8594; 40 min<br>\n",
    "0 - 5 &#8594; 50 min<br>\n",
    "0 - 6 &#8594; 60 min<br>\n",
    ".<br>\n",
    ".<br>\n",
    ".<br>\n",
    "0 - 6148 &#8594; 61480 min<br><hr>\n",
    "1 week &#8594; 7 days &#8594; 7 × 24 hours &#8594; 7 × 24 × 60 minutes &#8594; 10080 min<br><hr>\n",
    "week 1 &#8594; 0000 - 1008 &#8594; 10080 min<br>\n",
    "week 2 &#8594; 1008 - 2016 &#8594; 10080 min<br>\n",
    "week 3 &#8594; 2016 - 3024 &#8594; 10080 min<br>\n",
    "week 4 &#8594; 3024 - 4032 &#8594; 10080 min<br>\n",
    "week 5 &#8594; 4032 - 5040 &#8594; 10080 min<br>\n",
    "week 6 &#8594; 5040 - 6148 &#8594; 11080 min<br><hr>\n",
    "Train Set &#8594; 0000 - 5420 &#8594; 54200 min &#8594; 903.33 hours &#8594; 37.64 days<br>\n",
    "Test Set &#8594; 5420 - 6140 &#8594; 7200 min &#8594; 120 hours &#8594; 5 days <br>"
   ]
  },
  {
   "cell_type": "code",
   "execution_count": 11,
   "id": "38538893",
   "metadata": {},
   "outputs": [],
   "source": [
    "train = df[df['start_time'] < 5420]\n",
    "test = df[(df['start_time'] >= 5420)]"
   ]
  },
  {
   "cell_type": "code",
   "execution_count": 12,
   "id": "0c650d1e",
   "metadata": {},
   "outputs": [
    {
     "name": "stdout",
     "output_type": "stream",
     "text": [
      "0.8725438955504954\n",
      "0.1274561044495046\n"
     ]
    }
   ],
   "source": [
    "print(train.shape[0]/df.shape[0])\n",
    "print(test.shape[0]/df.shape[0])"
   ]
  },
  {
   "cell_type": "markdown",
   "id": "f631bb6e",
   "metadata": {},
   "source": [
    "### Extract Features"
   ]
  },
  {
   "cell_type": "code",
   "execution_count": 13,
   "id": "70f64c8b",
   "metadata": {},
   "outputs": [],
   "source": [
    "# اولین چیزی که به نظرم میرسه اینکه بیایم ببینیم هر کاربر چه مدت زمانی در هر استریم فعالیت داشته\n",
    "\n",
    "train['user_stream_du'] = train['stop_time'] - train['start_time']"
   ]
  },
  {
   "cell_type": "code",
   "execution_count": 14,
   "id": "1c86f1bd",
   "metadata": {},
   "outputs": [],
   "source": [
    "# یه چیزی رو هم همین اول کار باید بفهمیم، اونم اینکه فعالیت کل کاربرها در هر استریم در دیتاستی که داریم در کل چقدر طول کشیده\n",
    "# برای این کار باید بیایم برای هر استریم ببینیم که کوچک ترین زمان شروع و بزرگ ترین زمان پایان چی بوده و اختلافشو حساب کنیم\n",
    "\n",
    "train['stream_du'] = train.groupby(['stream_id'])['stop_time'].transform('max') - train.groupby(['stream_id'])['start_time'].transform('min')"
   ]
  },
  {
   "cell_type": "code",
   "execution_count": 15,
   "id": "63660fbf",
   "metadata": {},
   "outputs": [],
   "source": [
    "# اینم حساب کنیم که در هر استریم چند یوزر داشتن چت میکردن و فعال بودن\n",
    "\n",
    "train['stream_total_user'] = train.groupby(['stream_id'])['user_id'].transform('count')"
   ]
  },
  {
   "cell_type": "code",
   "execution_count": 16,
   "id": "5f4abe5f",
   "metadata": {},
   "outputs": [],
   "source": [
    "# مورد بعدی که به نظرم میرسه اینکه بیایم ببینیم هر کاربر از قبل مجموعا در استریم های هر کانال چقدر فعال بوده\n",
    "# منطقا اولین باری که کاربر از هر کانال یک استریم رو در اون چت میکنه سابقه ش صفره و بعد در اثر گذر زمان مجموعش رو هر دفعه باید حساب کنیم\n",
    "\n",
    "train = train.sort_values(by='start_time')\n",
    "train['user_channel_du'] = train.groupby(['user_id', 'streamer_name'])['user_stream_du'].transform('cumsum') - train['user_stream_du']"
   ]
  },
  {
   "cell_type": "code",
   "execution_count": 17,
   "id": "eed6776b",
   "metadata": {},
   "outputs": [],
   "source": [
    "# شاید بد نباشه بیایم این رو هم بررسی کنیم که هر کاربر از قبل در کل در چند تا استریم شرکت کرده\n",
    "\n",
    "train['user_total_stream'] = train.groupby(['user_id'])['stream_id'].transform('cumcount') "
   ]
  },
  {
   "cell_type": "code",
   "execution_count": 18,
   "id": "da317df3",
   "metadata": {},
   "outputs": [],
   "source": [
    "# اینم بررسی کنیم که هر کاربر از قبل از هر کانال در چند تا استریم شرکت کرده\n",
    "\n",
    "train['user_total_stream_per_channel'] = train.groupby(['user_id', 'streamer_name'])['stream_id'].transform('cumcount') "
   ]
  },
  {
   "cell_type": "code",
   "execution_count": 19,
   "id": "5fc9fb00",
   "metadata": {},
   "outputs": [],
   "source": [
    "# اگه تعداد استریم های هر کانال رو هم داشته باشیم شاید بشه ازش استفاده کرد\n",
    "\n",
    "train['channel_total_stream'] = (~train['stream_id'].duplicated()).groupby(train['streamer_name']).transform('cumsum') - 1"
   ]
  },
  {
   "cell_type": "code",
   "execution_count": 20,
   "id": "fd96ddc0",
   "metadata": {},
   "outputs": [],
   "source": [
    "# شاید خوب باشه که بیایم این رو هم حساب کنیم که هر کانال مجموعا، استریم هاش چقدر طول کشیده\n",
    "\n",
    "temp = train.drop_duplicates(subset=['stream_id'])\n",
    "train['channel_total_stream_du'] = temp.groupby(['streamer_name'])['stream_du'].transform('cumsum') - train['stream_du']\n",
    "train = train.sort_values(by=['streamer_name', 'stream_id', 'start_time'])\n",
    "train['channel_total_stream_du'].fillna(method='ffill', inplace=True)"
   ]
  },
  {
   "cell_type": "code",
   "execution_count": 21,
   "id": "76b8521d",
   "metadata": {},
   "outputs": [],
   "source": [
    "# اینو هم حساب کنیم که تعداد استریم های هر کانال از زمان اولین چت کاربر به بعد چند تا بوده. \n",
    "# چون مثلا یه کانالی 100 تا استریم داشته قبلا ولی یه یوزر نمیدونه که کلا همچنین کانالی هست و تا به اینجا 100 تا استریم گذشته رو از دست داده\n",
    "# ولی از روزی که اومده تا اخرین روز مثلا 5 تا استریم برگزار شده و هر 5 تارو تو چت شرکت کرده\n",
    "\n",
    "train['channel_total_stream_since_user_join'] = train[train['user_total_stream_per_channel']==0]['channel_total_stream']\n",
    "train = train.sort_values(by=['user_id', 'streamer_name', 'start_time'])\n",
    "train['channel_total_stream_since_user_join'].fillna(method='ffill', inplace=True)\n",
    "train['channel_total_stream_since_user_join'] = train['channel_total_stream'] - train['channel_total_stream_since_user_join']"
   ]
  },
  {
   "cell_type": "code",
   "execution_count": 22,
   "id": "dee75fd6",
   "metadata": {},
   "outputs": [],
   "source": [
    "# مدت زمان استریم ها از زمانی که کاربر در اولین استریم از یه کانالی فعال بوده به بعد هم خوبه که داشته باشیم دلیلش مشابه فیچر قبلیه\n",
    "\n",
    "train['channel_total_stream_du_since_user_join'] = train[train['user_channel_du']==0]['channel_total_stream_du']\n",
    "train = train.sort_values(by=['user_id', 'streamer_name', 'start_time'])\n",
    "train['channel_total_stream_du_since_user_join'].fillna(method='ffill', inplace=True)\n",
    "train['channel_total_stream_du_since_user_join'] = train['channel_total_stream_du'] - train['channel_total_stream_du_since_user_join']"
   ]
  },
  {
   "cell_type": "code",
   "execution_count": 23,
   "id": "e9eef9b4",
   "metadata": {},
   "outputs": [
    {
     "data": {
      "text/html": [
       "<div>\n",
       "<style scoped>\n",
       "    .dataframe tbody tr th:only-of-type {\n",
       "        vertical-align: middle;\n",
       "    }\n",
       "\n",
       "    .dataframe tbody tr th {\n",
       "        vertical-align: top;\n",
       "    }\n",
       "\n",
       "    .dataframe thead th {\n",
       "        text-align: right;\n",
       "    }\n",
       "</style>\n",
       "<table border=\"1\" class=\"dataframe\">\n",
       "  <thead>\n",
       "    <tr style=\"text-align: right;\">\n",
       "      <th></th>\n",
       "      <th>user_id</th>\n",
       "      <th>stream_id</th>\n",
       "      <th>streamer_name</th>\n",
       "      <th>start_time</th>\n",
       "      <th>stop_time</th>\n",
       "      <th>user_stream_du</th>\n",
       "      <th>stream_du</th>\n",
       "      <th>stream_total_user</th>\n",
       "      <th>user_channel_du</th>\n",
       "      <th>user_total_stream</th>\n",
       "      <th>user_total_stream_per_channel</th>\n",
       "      <th>channel_total_stream</th>\n",
       "      <th>channel_total_stream_du</th>\n",
       "      <th>channel_total_stream_since_user_join</th>\n",
       "      <th>channel_total_stream_du_since_user_join</th>\n",
       "    </tr>\n",
       "  </thead>\n",
       "  <tbody>\n",
       "    <tr>\n",
       "      <th>0</th>\n",
       "      <td>1</td>\n",
       "      <td>33842865744</td>\n",
       "      <td>mithrain</td>\n",
       "      <td>154</td>\n",
       "      <td>156</td>\n",
       "      <td>2</td>\n",
       "      <td>23</td>\n",
       "      <td>84</td>\n",
       "      <td>0</td>\n",
       "      <td>0</td>\n",
       "      <td>0</td>\n",
       "      <td>1</td>\n",
       "      <td>28.0</td>\n",
       "      <td>0.0</td>\n",
       "      <td>0.0</td>\n",
       "    </tr>\n",
       "    <tr>\n",
       "      <th>1</th>\n",
       "      <td>1</td>\n",
       "      <td>33846768288</td>\n",
       "      <td>alptv</td>\n",
       "      <td>166</td>\n",
       "      <td>169</td>\n",
       "      <td>3</td>\n",
       "      <td>9</td>\n",
       "      <td>23</td>\n",
       "      <td>0</td>\n",
       "      <td>1</td>\n",
       "      <td>0</td>\n",
       "      <td>1</td>\n",
       "      <td>18.0</td>\n",
       "      <td>0.0</td>\n",
       "      <td>0.0</td>\n",
       "    </tr>\n",
       "    <tr>\n",
       "      <th>2</th>\n",
       "      <td>1</td>\n",
       "      <td>33886469056</td>\n",
       "      <td>mithrain</td>\n",
       "      <td>587</td>\n",
       "      <td>588</td>\n",
       "      <td>1</td>\n",
       "      <td>35</td>\n",
       "      <td>82</td>\n",
       "      <td>2</td>\n",
       "      <td>2</td>\n",
       "      <td>1</td>\n",
       "      <td>5</td>\n",
       "      <td>113.0</td>\n",
       "      <td>4.0</td>\n",
       "      <td>85.0</td>\n",
       "    </tr>\n",
       "    <tr>\n",
       "      <th>3</th>\n",
       "      <td>1</td>\n",
       "      <td>33887624992</td>\n",
       "      <td>wtcn</td>\n",
       "      <td>589</td>\n",
       "      <td>591</td>\n",
       "      <td>2</td>\n",
       "      <td>30</td>\n",
       "      <td>73</td>\n",
       "      <td>0</td>\n",
       "      <td>3</td>\n",
       "      <td>0</td>\n",
       "      <td>3</td>\n",
       "      <td>75.0</td>\n",
       "      <td>0.0</td>\n",
       "      <td>0.0</td>\n",
       "    </tr>\n",
       "    <tr>\n",
       "      <th>4</th>\n",
       "      <td>1</td>\n",
       "      <td>33890145056</td>\n",
       "      <td>jrokezftw</td>\n",
       "      <td>591</td>\n",
       "      <td>594</td>\n",
       "      <td>3</td>\n",
       "      <td>10</td>\n",
       "      <td>10</td>\n",
       "      <td>0</td>\n",
       "      <td>4</td>\n",
       "      <td>0</td>\n",
       "      <td>8</td>\n",
       "      <td>115.0</td>\n",
       "      <td>0.0</td>\n",
       "      <td>0.0</td>\n",
       "    </tr>\n",
       "  </tbody>\n",
       "</table>\n",
       "</div>"
      ],
      "text/plain": [
       "   user_id    stream_id streamer_name  start_time  stop_time  user_stream_du  \\\n",
       "0        1  33842865744      mithrain         154        156               2   \n",
       "1        1  33846768288         alptv         166        169               3   \n",
       "2        1  33886469056      mithrain         587        588               1   \n",
       "3        1  33887624992          wtcn         589        591               2   \n",
       "4        1  33890145056     jrokezftw         591        594               3   \n",
       "\n",
       "   stream_du  stream_total_user  user_channel_du  user_total_stream  \\\n",
       "0         23                 84                0                  0   \n",
       "1          9                 23                0                  1   \n",
       "2         35                 82                2                  2   \n",
       "3         30                 73                0                  3   \n",
       "4         10                 10                0                  4   \n",
       "\n",
       "   user_total_stream_per_channel  channel_total_stream  \\\n",
       "0                              0                     1   \n",
       "1                              0                     1   \n",
       "2                              1                     5   \n",
       "3                              0                     3   \n",
       "4                              0                     8   \n",
       "\n",
       "   channel_total_stream_du  channel_total_stream_since_user_join  \\\n",
       "0                     28.0                                   0.0   \n",
       "1                     18.0                                   0.0   \n",
       "2                    113.0                                   4.0   \n",
       "3                     75.0                                   0.0   \n",
       "4                    115.0                                   0.0   \n",
       "\n",
       "   channel_total_stream_du_since_user_join  \n",
       "0                                      0.0  \n",
       "1                                      0.0  \n",
       "2                                     85.0  \n",
       "3                                      0.0  \n",
       "4                                      0.0  "
      ]
     },
     "execution_count": 23,
     "metadata": {},
     "output_type": "execute_result"
    }
   ],
   "source": [
    "train = train.sort_index()\n",
    "train.head()"
   ]
  },
  {
   "cell_type": "markdown",
   "id": "252e8139",
   "metadata": {},
   "source": [
    "### Calculate Favorite Channel Score"
   ]
  },
  {
   "cell_type": "code",
   "execution_count": 24,
   "id": "abad8140",
   "metadata": {},
   "outputs": [],
   "source": [
    "# تا اینجا 10 تا فیچر استخراج کردیم که ممکنه بعضیاشو استفاده کنیم بعضیاشو هم نکنیم\n",
    "# از اینجا به بعد باید یک مشخصه ای رو در نظر بگیریم که بهمون بگه که میزان تعامل هر کاربر با هر کانال چقدر هست\n",
    "# این کار رو میشه بر اساس فیچرهایی که تا اینجا از کاربران و استریم ها و کانال ها به دست آوردیم انجام بدیم"
   ]
  },
  {
   "cell_type": "markdown",
   "id": "c4a6e353",
   "metadata": {},
   "source": [
    "<div dir=\"rtl\">\n",
    "تا به اینجا یک سری فیچر استخراج کردیم که به شرح زیرهست:<br>\n",
    "    1. میزان فعالیت کاربر در هر استریم = user_stream_du\n",
    "    <br>\n",
    "    2. مدت زمان کل استریم = stream_du\n",
    "    <br>\n",
    "    3. تعداد کل کاربران شرکت کننده در چت در هر استریم = stream_total_user\n",
    "    <br>\n",
    "    4. مدت زمان فعال بودن هر کاربر در استریم های قبلی از کانالی که در حال حاضر در استریم آن فعال است = user_channel_du\n",
    "    <br>\n",
    "    5. تعداد کل استریم هایی که کاربر از قبل در آن شرکت کرده است = user_total_stream \n",
    "    <br>\n",
    "    6. تعداد کل استریم هایی که هر کاربر از قبل در آن فعال بوده از کانالی که در حال حاضر در استریم آن فعال است = user_total_stream_per_channel \n",
    "    <br>\n",
    "    7. تعداد کل استریم هایی که هر کانال از ابتدا تا به زمان استریم فعلی داشته است = channel_total_stream\n",
    "    <br>\n",
    "    8. مدت زمان کل استریم هایی که هر کانال از ابتدا تا به زمان استریم فعلی داشته است = channel_total_stream_du\n",
    "    <br> \n",
    "    9. تعداد کل استریم های هر کانال از زمان اولین فعالیت کاربر در یکی از استریم ها = channel_total_stream_since_user_join\n",
    "    <br>\n",
    "    10. مدت زمان کل استریم های هر کانال از زمان اولین فعالیت کاربر در یکی از استریم ها = channel_total_stream_du_since_user_join\n",
    "    <br><hr>\n",
    "   برای اینکه یکم واضح تر بشه برای یک سطر از دیتا ست فیچرهارو توضیح میدم.\n",
    " \n",
    "</div>"
   ]
  },
  {
   "cell_type": "code",
   "execution_count": 25,
   "id": "de7f3adb",
   "metadata": {
    "scrolled": true
   },
   "outputs": [
    {
     "data": {
      "text/plain": [
       "user_id                                            197\n",
       "stream_id                                  34135849920\n",
       "streamer_name                               esl_brazil\n",
       "start_time                                        3210\n",
       "stop_time                                         3211\n",
       "user_stream_du                                       1\n",
       "stream_du                                           22\n",
       "stream_total_user                                  110\n",
       "user_channel_du                                      7\n",
       "user_total_stream                                    3\n",
       "user_total_stream_per_channel                        2\n",
       "channel_total_stream                                46\n",
       "channel_total_stream_du                          597.0\n",
       "channel_total_stream_since_user_join              25.0\n",
       "channel_total_stream_du_since_user_join          418.0\n",
       "Name: 5465, dtype: object"
      ]
     },
     "execution_count": 25,
     "metadata": {},
     "output_type": "execute_result"
    }
   ],
   "source": [
    "train.loc[5465]"
   ]
  },
  {
   "cell_type": "markdown",
   "id": "86493398",
   "metadata": {},
   "source": [
    "<div dir=\"rtl\">\n",
    "    الان اینجا کاربر با آیدی 197 در یک استریم از کانال esl_brazil شرکت کرده.\n",
    "    <br>\n",
    "    کل فعالیتی که در چت داشته معادل با 1 اسنپ شات بوده که یعنی همون 10 دقیقه. \n",
    "    <br>\n",
    "    کل استریم هم 22 اسنپ شات بوده که یعنی 220 دقیقه.\n",
    "    <br>\n",
    "    تعداد کل کاربرانی که در چت این استریم فعالیت داشتن 110 تا بودن.  \n",
    "    <br>\n",
    "    کاربر از قبل در چت استریم های کانال esl_brazil به مدت 7 اسنپ شات که همون 70 دقیقه هست فعالیت داشته که معادل هست با 2 استریم.\n",
    "    <br>\n",
    "    همچنین، کاربر در کل از قبل در 3 استریم از کانال های دیگه هم فعال بوده است.\n",
    "    <br>\n",
    "    کاربر در 2 استریم قبلی از این کانال هم شرکت کرده است.\n",
    "    <br>\n",
    "    کانال esl_brazil از ابتدا تا قبل از این استریم 46 تا استریم دیگه داشته است.\n",
    "    <br>\n",
    "    مدت زمان استریم های قبلی کانال 597 تا اسنپ شات بوده که معادل هست با 5970 دقیقه.\n",
    "    <br>\n",
    "    از زمانی که کاربر در یکی از استریم های این کانال شرکت کرده تا به اینجا 25 تا استریم از این کانال برگزار شده.\n",
    "    <br>\n",
    "    مدت زمان استریم های برگزار شده از زمانی که کاربر در اولین استریم از این کانال شرکت کرده برابر با 418 اسنپ شات هست که همون 4180 دقیقه است.\n",
    "    <hr>\n",
    "    الان دنبال یه مشخصه ای باید باشیم که بتونیم به کمکش تعریف کنیم که هر کاربر با توجه به استریم هایی که شرکت کرده در کل چقدر به کانال ارائه دهنده علاقه منده. بعدش بر اساس این علاقه مندی ها میتونیم کانال های جدیدی رو برای هر کاربر پیشنهاد بدیم.\n",
    "</div>"
   ]
  },
  {
   "cell_type": "markdown",
   "id": "8ffc7f3a",
   "metadata": {},
   "source": [
    "<div dir=\"rtl\">\n",
    "شاید بشه میزان علاقه مندی هر کاربر به هر کانال رو به صورت زیر تعریف کرد:\n",
    "    <br>\n",
    "</div>\n",
    "Channel Score = (C/B) + (A/E) + (C/D)\n",
    "\n",
    "<div dir=\"rtl\">\n",
    "    <hr>\n",
    "    A. مدت زمان فعال بودن هر کاربر در استریم های قبلی از کانالی که در حال حاضر در استریم آن فعال است = user_channel_du\n",
    "    <br>\n",
    "    B. تعداد کل استریم هایی که کاربر از قبل در آن شرکت کرده است = user_total_stream \n",
    "    <br>\n",
    "    C. تعداد کل استریم هایی که هر کاربر از قبل در آن فعال بوده از کانالی که در حال حاضر در استریم آن فعال است = user_total_stream_per_channel \n",
    "    <br>\n",
    "    D. تعداد کل استریم های هر کانال از زمان اولین فعالیت کاربر در یکی از استریم ها = channel_total_stream_since_user_join\n",
    "    <br>\n",
    "    E. مدت زمان کل استریم های هر کانال از زمان اولین فعالیت کاربر در یکی از استریم ها = channel_total_stream_du_since_user_join\n",
    "<!--     F. میزان فعالیت کاربر در هر استریم = user_stream_du\n",
    "    <br>\n",
    "    G. مدت زمان کل استریم = stream_du -->\n",
    "    <br><hr>\n",
    "</div>\n",
    "\n",
    "<div dir=\"rtl\">\n",
    "خب حالا می تونیم امتیاز مورد نظر رو برای هر کاربر و کانال حساب کنیم. البته جاهایی که کسر 0/0 داشته باشیم مقدار این فرمول NaN میشه.<br>\n",
    "    وقتی NaN میشه به این معنی هست که کاربر از قبل فعالیتی نداشته کلا و اولین باره که داره در اون کانال فعالیت میکنه. پس میتونیم اون سطر رو 0 در نظر بگیریم.\n",
    "</div>"
   ]
  },
  {
   "cell_type": "code",
   "execution_count": 26,
   "id": "42406a90",
   "metadata": {},
   "outputs": [],
   "source": [
    "train = train.sort_values(by='start_time')\n",
    "\n",
    "C_B = train['user_total_stream_per_channel']/train['user_total_stream']\n",
    "C_B = C_B.fillna(0)\n",
    "\n",
    "A_E = train['user_channel_du']/train['channel_total_stream_du_since_user_join']\n",
    "A_E = A_E.fillna(0)\n",
    "\n",
    "C_D = train['user_total_stream_per_channel']/train['channel_total_stream_since_user_join']\n",
    "C_D = C_D.fillna(0)\n",
    "\n",
    "train['channel_score'] = C_B + A_E + C_D"
   ]
  },
  {
   "cell_type": "code",
   "execution_count": 27,
   "id": "c65168c8",
   "metadata": {},
   "outputs": [
    {
     "data": {
      "text/plain": [
       "0.000000    1363742\n",
       "0.015010          1\n",
       "0.015013          1\n",
       "0.015678          1\n",
       "0.018351          1\n",
       "             ...   \n",
       "2.976190          1\n",
       "2.977778          1\n",
       "2.981481          1\n",
       "2.984848          1\n",
       "3.000000       5198\n",
       "Name: channel_score, Length: 875870, dtype: int64"
      ]
     },
     "execution_count": 27,
     "metadata": {},
     "output_type": "execute_result"
    }
   ],
   "source": [
    "train['channel_score'].value_counts().sort_index()"
   ]
  },
  {
   "cell_type": "code",
   "execution_count": 28,
   "id": "a34aa6aa",
   "metadata": {
    "scrolled": true
   },
   "outputs": [],
   "source": [
    "train = train.sort_index()\n",
    "train_copy = train.copy()\n",
    "cols = ['user_stream_du', 'stream_du', 'stream_total_user','channel_total_stream_du_since_user_join',\n",
    "        'user_channel_du', 'user_total_stream', 'user_total_stream_per_channel',\n",
    "        'channel_total_stream', 'channel_total_stream_du','channel_total_stream_since_user_join',]\n",
    "train.drop(cols, axis=1, inplace=True)"
   ]
  },
  {
   "cell_type": "code",
   "execution_count": 29,
   "id": "075da6e3",
   "metadata": {
    "scrolled": true
   },
   "outputs": [
    {
     "name": "stdout",
     "output_type": "stream",
     "text": [
      "1363742\n"
     ]
    },
    {
     "data": {
      "text/plain": [
       "0.000000    877247\n",
       "0.015678         1\n",
       "0.018884         1\n",
       "0.019541         1\n",
       "0.019792         1\n",
       "             ...  \n",
       "2.967742         1\n",
       "2.971429         1\n",
       "2.973684         1\n",
       "2.984848         1\n",
       "3.000000       959\n",
       "Name: channel_score, Length: 367532, dtype: int64"
      ]
     },
     "execution_count": 29,
     "metadata": {},
     "output_type": "execute_result"
    }
   ],
   "source": [
    "# حالا ما داریم با بازه های زمانی کار میکنیم، منطقا برای هر کاربر آخرین امتیازی که از کانال به دست میاد \n",
    "# بهتر داره آخرین وضعیت علاقه مندی کاربر به اون کانال رو مشخص میکنه\n",
    "# پس یه کاری که میشه کرد اینکه بیایم برای هر کاربر از هر استریم، فقط آخرین استریم مربوط به اون کانال رو نگه داریم\n",
    "\n",
    "train = train.sort_values(['user_id', 'start_time', 'streamer_name']).drop_duplicates(['user_id', 'streamer_name'], keep='last')\n",
    "print(len(train['channel_score']))\n",
    "train['channel_score'].value_counts().sort_index()"
   ]
  },
  {
   "cell_type": "markdown",
   "id": "7c0bae17",
   "metadata": {},
   "source": [
    "### Collaborative Filtering Using SVD"
   ]
  },
  {
   "cell_type": "code",
   "execution_count": 30,
   "id": "399d215b",
   "metadata": {},
   "outputs": [
    {
     "name": "stdout",
     "output_type": "stream",
     "text": [
      "99081\n",
      "150867\n"
     ]
    }
   ],
   "source": [
    "# حالا میتونیم بیایم یه ماتریس بسازیم که سطرهاش یوزرها هستن و ستون هاش اسم کانال ها\n",
    "# اگه بین هر یوزر و کانال رابطه باشه و کاربر از قبل تو اون کانال فعال باشه امتیازی که برای اون کانال و برای اون کاربر محاسبه شده رو میذاریم\n",
    "# هرچی امتیاز از 0 بزرگتر باشه به این معنیه که کاربر به کانال بیشتر علاقه منده\n",
    "# صفر بودن امتیاز این رو نشون میده که کاربر فقط یک بار در استریم های اون کانال فعال بوده\n",
    "\n",
    "print(len(train['user_id'].value_counts()))\n",
    "print(len(train['streamer_name'].value_counts()))"
   ]
  },
  {
   "cell_type": "code",
   "execution_count": 31,
   "id": "bf11b80c",
   "metadata": {},
   "outputs": [],
   "source": [
    "# الان ماتریسی که باید ساخته بشه 99081 تا سطر داره و 150867 تا ستون! از طرفی ماتریس اسپارس هم هست. برای هندل کردن این بخش از \n",
    "# کتابخونه سای پای استفاده میکنیم، حالا چون اسم کانال ها رشته هست و ما برای ساختن ماتریس اندیس هایی که داریم عدد هستن\n",
    "# میتونیم بیایم هر کانال رو مپ کنیم به یک عدد و برای این کار از لیبل اینکودر استفاده میشه کرد"
   ]
  },
  {
   "cell_type": "code",
   "execution_count": 32,
   "id": "82028599",
   "metadata": {},
   "outputs": [
    {
     "data": {
      "text/html": [
       "<div>\n",
       "<style scoped>\n",
       "    .dataframe tbody tr th:only-of-type {\n",
       "        vertical-align: middle;\n",
       "    }\n",
       "\n",
       "    .dataframe tbody tr th {\n",
       "        vertical-align: top;\n",
       "    }\n",
       "\n",
       "    .dataframe thead th {\n",
       "        text-align: right;\n",
       "    }\n",
       "</style>\n",
       "<table border=\"1\" class=\"dataframe\">\n",
       "  <thead>\n",
       "    <tr style=\"text-align: right;\">\n",
       "      <th></th>\n",
       "      <th>user_id</th>\n",
       "      <th>stream_id</th>\n",
       "      <th>streamer_name</th>\n",
       "      <th>start_time</th>\n",
       "      <th>stop_time</th>\n",
       "      <th>channel_score</th>\n",
       "      <th>streamer_name_label</th>\n",
       "    </tr>\n",
       "  </thead>\n",
       "  <tbody>\n",
       "    <tr>\n",
       "      <th>1</th>\n",
       "      <td>1</td>\n",
       "      <td>33846768288</td>\n",
       "      <td>alptv</td>\n",
       "      <td>166</td>\n",
       "      <td>169</td>\n",
       "      <td>0.000000</td>\n",
       "      <td>4953</td>\n",
       "    </tr>\n",
       "    <tr>\n",
       "      <th>5</th>\n",
       "      <td>1</td>\n",
       "      <td>33903958784</td>\n",
       "      <td>berkriptepe</td>\n",
       "      <td>734</td>\n",
       "      <td>737</td>\n",
       "      <td>0.000000</td>\n",
       "      <td>12902</td>\n",
       "    </tr>\n",
       "    <tr>\n",
       "      <th>16</th>\n",
       "      <td>1</td>\n",
       "      <td>34169481232</td>\n",
       "      <td>kendinemuzisyen</td>\n",
       "      <td>3600</td>\n",
       "      <td>3601</td>\n",
       "      <td>0.286017</td>\n",
       "      <td>66867</td>\n",
       "    </tr>\n",
       "    <tr>\n",
       "      <th>17</th>\n",
       "      <td>1</td>\n",
       "      <td>34185325968</td>\n",
       "      <td>unlostv</td>\n",
       "      <td>3739</td>\n",
       "      <td>3743</td>\n",
       "      <td>1.132898</td>\n",
       "      <td>137811</td>\n",
       "    </tr>\n",
       "    <tr>\n",
       "      <th>25</th>\n",
       "      <td>1</td>\n",
       "      <td>34236660832</td>\n",
       "      <td>elraenn</td>\n",
       "      <td>4314</td>\n",
       "      <td>4315</td>\n",
       "      <td>0.121575</td>\n",
       "      <td>36505</td>\n",
       "    </tr>\n",
       "  </tbody>\n",
       "</table>\n",
       "</div>"
      ],
      "text/plain": [
       "    user_id    stream_id    streamer_name  start_time  stop_time  \\\n",
       "1         1  33846768288            alptv         166        169   \n",
       "5         1  33903958784      berkriptepe         734        737   \n",
       "16        1  34169481232  kendinemuzisyen        3600       3601   \n",
       "17        1  34185325968          unlostv        3739       3743   \n",
       "25        1  34236660832          elraenn        4314       4315   \n",
       "\n",
       "    channel_score  streamer_name_label  \n",
       "1        0.000000                 4953  \n",
       "5        0.000000                12902  \n",
       "16       0.286017                66867  \n",
       "17       1.132898               137811  \n",
       "25       0.121575                36505  "
      ]
     },
     "execution_count": 32,
     "metadata": {},
     "output_type": "execute_result"
    }
   ],
   "source": [
    "from sklearn.preprocessing import LabelEncoder\n",
    "\n",
    "le = LabelEncoder()\n",
    "train['streamer_name_label'] = le.fit_transform(train['streamer_name'])\n",
    "train.head()"
   ]
  },
  {
   "cell_type": "code",
   "execution_count": 33,
   "id": "8d0a3150",
   "metadata": {
    "scrolled": false
   },
   "outputs": [
    {
     "name": "stdout",
     "output_type": "stream",
     "text": [
      "(100001, 150867)\n",
      "1363742\n",
      "\n",
      "user_id: 1\n",
      "  (0, 4953)\t0.0\n",
      "  (0, 12902)\t0.0\n",
      "  (0, 36505)\t0.12157481821660926\n",
      "  (0, 37614)\t0.0\n",
      "  (0, 37985)\t0.0\n",
      "  (0, 49120)\t1.0572100313479624\n",
      "  (0, 50075)\t0.0\n",
      "  (0, 59879)\t0.27403846153846156\n",
      "  (0, 63507)\t0.0749296408870877\n",
      "  (0, 63611)\t0.0\n",
      "  (0, 66867)\t0.2860169491525424\n",
      "  (0, 85675)\t0.4025607507960449\n",
      "  (0, 95902)\t0.4797659377887281\n",
      "  (0, 106869)\t0.19927536231884058\n",
      "  (0, 134476)\t0.7343358395989975\n",
      "  (0, 137811)\t1.132897603485839\n",
      "  (0, 143842)\t0.21090790023491077\n",
      "  (0, 149396)\t0.27017458028633223\n",
      "  (0, 149653)\t0.29627054361567634\n",
      "\n",
      "channel_id: 1\n",
      "  (0, 22714)\t0.0\n"
     ]
    }
   ],
   "source": [
    "import scipy\n",
    "from scipy.sparse import csr_matrix\n",
    "\n",
    "user_item_matrix = csr_matrix((train['channel_score'], (train['user_id'], train['streamer_name_label'])))\n",
    "\n",
    "print(user_item_matrix.shape)\n",
    "print(len(user_item_matrix.data))\n",
    "\n",
    "# results relalted to user with id 1\n",
    "print('\\nuser_id: 1')\n",
    "print(user_item_matrix[1])\n",
    "\n",
    "# results relalted to channel with id 1\n",
    "print('\\nchannel_id: 1')\n",
    "print(user_item_matrix.T[1])"
   ]
  },
  {
   "cell_type": "code",
   "execution_count": 34,
   "id": "4aca4be6",
   "metadata": {},
   "outputs": [
    {
     "name": "stdout",
     "output_type": "stream",
     "text": [
      "True\n",
      "True\n"
     ]
    }
   ],
   "source": [
    "# این چیزی که اینجا توضیح میخوام بدم به روند حل سوال ربطی نداره، میتونید اسکیپ کنید \n",
    "# برای خودم سوال بود که چرا ابعاد ماتریس ساخته شده 100001 در 150867 هست\n",
    "# ولی تعداد یوزرهامون در دیتاستی که داریم کمتر از این مقداره\n",
    "# چیزی که فهمیدم این بود که چون آی دی یوزرها در دیتاست از 1 شروع میشه و یوزر با آی دی 100000 هم در دیتاست وجود داره\n",
    "# در واقع اندیس هایی که برای یوزرها در نظر گرفته میشه از 0 هست تا 100000 پس تعدادش میشه 100001 تا\n",
    "\n",
    "print(1 in train['user_id'])\n",
    "print(100000 in train['user_id'])"
   ]
  },
  {
   "cell_type": "code",
   "execution_count": 35,
   "id": "b20c86f7",
   "metadata": {},
   "outputs": [],
   "source": [
    "# با توجه به ماتریسی که ساخته شده الان به ازای هر یوزر 150867 تا ستون که تعداد کانال هامون هست وجود خواهد داشت \n",
    "# میتونیم با روش اس وی دی این تعداد زیاد رو به کا بُعد کاهش بدیم"
   ]
  },
  {
   "cell_type": "code",
   "execution_count": 36,
   "id": "01b0e733",
   "metadata": {},
   "outputs": [
    {
     "name": "stdout",
     "output_type": "stream",
     "text": [
      "(100001, 75)\n",
      "(75, 75)\n",
      "(75, 150867)\n"
     ]
    }
   ],
   "source": [
    "from scipy.sparse.linalg import svds\n",
    "\n",
    "# The number of factors to factor the user-item matrix\n",
    "k = 75\n",
    "\n",
    "# Performs matrix factorization of the original user item matrix\n",
    "U, S, VT = svds(user_item_matrix, k=k)\n",
    "\n",
    "S = np.diag(S)\n",
    "\n",
    "print(U.shape)\n",
    "print(S.shape)\n",
    "print(VT.shape)"
   ]
  },
  {
   "cell_type": "code",
   "execution_count": 37,
   "id": "feaadf52",
   "metadata": {},
   "outputs": [],
   "source": [
    "# از اینجا به بعد برای حل مسئله دو روش رو در نظر گرفتم.\n",
    "\n",
    "# اولین راه که ساده ترین راه هست، اینکه اومدم ماتریس یوزر آیتم رو که بالاتر داشتم\n",
    "# با استفاده از روش تجزیه اس وی دی به سه تا ماتریس شکستم و مجددا مقادیر امتیازها رو تخمین زدم.\n",
    "# بعد برای هر یوزر کانال هایی که بیشترین امتیاز رو داشته باشن پینشهاد داده میشن.\n",
    "\n",
    "# برای روش دوم اومدم از نزدیکی بین یوزرها استفاده کردم. یعنی یوزرهای مشابه بهم رو با استفاده از فاصله کسینوسی پیدا کردم \n",
    "# بعد اجتماعی از کانال هایی رو که یوزرهای مشابه بهشون علاقه مند بودن رو به افراد شبیه بهم پیشنهاد دادم\n",
    "\n",
    "# در هر دو روش حواسم به این نکته بوده که کانالی که دارم به یوزرها پیشنهاد میدم جدید باشه\n",
    "\n",
    "# یک روش سومی هم میتونه وجود داشته باشه، اونم اینکه کانال های مشابه بهم رو پیدا کنیم و اگه مثلا یوزری از کانال اول خوشش اومده باشه\n",
    "# احتمالا از کانال مشابه به کانال اول هم خوشش خواهد اومد. این روش سوم رو اگر برسم پیاده سازی میکنم"
   ]
  },
  {
   "cell_type": "markdown",
   "id": "c32345fd",
   "metadata": {},
   "source": [
    "### Solution 1"
   ]
  },
  {
   "cell_type": "code",
   "execution_count": 38,
   "id": "6b2d9241",
   "metadata": {},
   "outputs": [
    {
     "data": {
      "text/plain": [
       "array([ 0.00000000e+00,  0.00000000e+00,  0.00000000e+00, ...,\n",
       "        0.00000000e+00,  0.00000000e+00, -1.98840421e-05])"
      ]
     },
     "execution_count": 38,
     "metadata": {},
     "output_type": "execute_result"
    }
   ],
   "source": [
    "# الان ضرب پایین داره این رو مشخص میکنه که کاربر با آی دی 1 چقدر به هر کانال علاقه منده. \n",
    "# هر چقدر این عدد بزرگتر باشه، میزان علاقه مندی بیشتره\n",
    "# در واقع داره همون ماتریس یوزر آیتم رو با تقریب برامون میسازه\n",
    "\n",
    "np.dot(np.dot(U[1], S), VT)"
   ]
  },
  {
   "cell_type": "code",
   "execution_count": 39,
   "id": "3e88fd3f",
   "metadata": {},
   "outputs": [],
   "source": [
    "# تا اینجا میشه گفت که تقریبا مسئله حل شده\n",
    "# فقط الان باید یه تابع بنویسیم که به کمکش آی دی یک یوزر رو بگیریم و تعداد مورد نظر کانالی رو که میخوایم (مثلا 10 تا) بهش پیشنهاد بدیم\n",
    "# حواسمون هم هست که باید کانالی که پیشنهاد میدیم جدید باشه و کاربر از قبل ندیده باشه"
   ]
  },
  {
   "cell_type": "code",
   "execution_count": 40,
   "id": "c3f2ca34",
   "metadata": {},
   "outputs": [],
   "source": [
    "def recommend_channel(user_id, n_channel=30, U=U, S=S, VT=VT, df=train, encoder=le):\n",
    "    recommendations = []\n",
    "    score = np.dot(np.dot(U[user_id], S), VT)\n",
    "    best = np.argsort(-score)\n",
    "    i = 0\n",
    "    while len(recommendations) < n_channel:\n",
    "        if not ((df['user_id'] == user_id) & (df['streamer_name_label'] == best[i])).any():\n",
    "            recommendations.append(best[i])\n",
    "        i+=1 \n",
    "    return encoder.inverse_transform(recommendations)"
   ]
  },
  {
   "cell_type": "markdown",
   "id": "1da2e9be",
   "metadata": {},
   "source": [
    "### Test & Evaluation (Solution 1)"
   ]
  },
  {
   "cell_type": "code",
   "execution_count": 41,
   "id": "54079a7f",
   "metadata": {},
   "outputs": [],
   "source": [
    "# شاید بهترین راه ارزیابی یک ریکامندر سیستم این باشه که ببینیم کاربر واقعی در طول زمان چطور با پیشنهاداتی که از طریق ما داده میشه رفتار میکنه\n",
    "# پس یعنی میزان دقتی که اینجا به دست میاد و ارائه میشه خیلی درست نیست و صرفا یک راه ارزیابی سطحی و اولیه هست"
   ]
  },
  {
   "cell_type": "markdown",
   "id": "856f10ba",
   "metadata": {},
   "source": [
    "<div dir=\"rtl\">\n",
    "برای ارزیابی نتایج به دست آمده، معیاری که در نظر گرفتم Hit Rate است که به شرح زیره:\n",
    "    <br>\n",
    "    + اول میام میبینم که کاربر مورد نظر در دیتای تست چند تا کانال جدید نسبت به دیتای آموزش در کل داشته\n",
    "    <br>\n",
    "    + بعد از بین کانال های جدیدی که در دیتای تست برای هر کاربر وجود داره، نگاه میکنم که آیا اون کانال رو به یوزر پیشنهاد دادم یا نه\n",
    "    <br>\n",
    "    + در نهایت نسبت تعداد یوزرهایی که بهشون حداقل یک پیشنهاد درست داده شده رو به تعداد کل یوزرها در نظر میگیرم\n",
    "</div>\n",
    "<br>\n",
    "${HR = \\frac{|U^L_{hit}|}{|U_{all}|}}$\n",
    "<br><br>\n",
    "${|U^L_{hit}|}$ is the number of users for which the correct answer is included in the top L recommendation list,\n",
    "<br><br>\n",
    "${|U_{all}|}$ is the total number of users in the test dataset."
   ]
  },
  {
   "cell_type": "code",
   "execution_count": 42,
   "id": "7e494ddc",
   "metadata": {},
   "outputs": [],
   "source": [
    "# Count new channels for each user on test set\n",
    "temp = test.sort_values(['user_id', 'start_time', 'streamer_name']).drop_duplicates(['user_id', 'streamer_name'], keep='last')\n",
    "temp = temp[~temp.set_index(['user_id','streamer_name']).index.isin(train.set_index(['user_id','streamer_name']).index)]"
   ]
  },
  {
   "cell_type": "code",
   "execution_count": 192,
   "id": "de715f56",
   "metadata": {},
   "outputs": [
    {
     "name": "stdout",
     "output_type": "stream",
     "text": [
      "(50108, 6)\n"
     ]
    }
   ],
   "source": [
    "# Call recommend_channel method for users who has at least one new channel\n",
    "# users = temp.drop_duplicates(['user_id'], keep='last')\n",
    "# users['recom'] = users['user_id'].apply(recommend_channel)\n",
    "# usres.to_csv('users.csv')\n",
    "# users.to_csv('30_ch_users.csv')\n",
    "\n",
    "# از اونجایی که اجرای کد های بالا کمی زمانبر بود، پس از یک بار اجرا نتیجه به دست آمده رو\n",
    "# در قالب یک فایل ذخیره کردم و برای اجراهای مجدد از فایل ذخیره شده استفاده میکنم\n",
    "\n",
    "users = pd.read_csv('dataset/30_ch_users.csv', index_col=0)\n",
    "print(users.shape)"
   ]
  },
  {
   "cell_type": "code",
   "execution_count": 193,
   "id": "27eabc22",
   "metadata": {},
   "outputs": [],
   "source": [
    "def remove_new_line(x):\n",
    "    x = x[1:-1]\n",
    "    x = x.split(' ')\n",
    "    x = [item.replace('\\'', '') for item in x] \n",
    "    return [item.replace('\\n', '') for item in x] \n",
    "    \n",
    "users['recom'] = users['recom'].apply(remove_new_line)"
   ]
  },
  {
   "cell_type": "code",
   "execution_count": 194,
   "id": "3cc32fc0",
   "metadata": {},
   "outputs": [],
   "source": [
    "# Merge temp and users df\n",
    "merged_df = temp.set_index('user_id').merge(users.set_index('user_id')['recom'], left_index=True, right_index=True, how='left').set_index(temp.index)\n",
    "merged_df.insert(0, 'user_id', temp['user_id'])"
   ]
  },
  {
   "cell_type": "code",
   "execution_count": 195,
   "id": "164e1d42",
   "metadata": {
    "scrolled": true
   },
   "outputs": [],
   "source": [
    "def count_predictions(x):\n",
    "    return int(x[2] in x[5])\n",
    "    \n",
    "merged_df['prediction_recom'] = merged_df.apply(count_predictions, axis=1)"
   ]
  },
  {
   "cell_type": "code",
   "execution_count": 196,
   "id": "0fad2dd5",
   "metadata": {},
   "outputs": [],
   "source": [
    "merged_df = merged_df.sort_values(['user_id', 'prediction_recom']).drop_duplicates(['user_id'], keep='last')"
   ]
  },
  {
   "cell_type": "code",
   "execution_count": 197,
   "id": "b1c4fa03",
   "metadata": {},
   "outputs": [
    {
     "data": {
      "text/plain": [
       "0.3222838668476092"
      ]
     },
     "execution_count": 197,
     "metadata": {},
     "output_type": "execute_result"
    }
   ],
   "source": [
    "def hit_rate(df):\n",
    "    hit_users = df[df['prediction_recom']==1].shape[0] # تعداد یوزرهایی که حداقل در یکی از کانال های پیشنهادی ما فعالیت کرده اند \n",
    "    all_users = df.shape[0] # تعداد کل یوزرها\n",
    "    return hit_users / all_users\n",
    "\n",
    "hit_rate(merged_df)"
   ]
  },
  {
   "cell_type": "markdown",
   "id": "a8c8b0b1",
   "metadata": {},
   "source": [
    "### Solution 2"
   ]
  },
  {
   "cell_type": "code",
   "execution_count": 153,
   "id": "17ff4eb5",
   "metadata": {},
   "outputs": [],
   "source": [
    "# خروجی تجزیه ماتریس به روش اس وی دی، سه ماتریس هست که اولین ماتریس در واقع داره ماتریس یوزرها رو نشون میده\n",
    "# برای پیدا کردن یوزرهای مشابه از فاصله کسینوسی استفاده شده و \n",
    "# هر چقدر میزان شباهت به دست اومده برای دو کاربر به 1 نزدیک تر باشه، یعنی دو کاربر بیشتر بهم شبیه هستن"
   ]
  },
  {
   "cell_type": "code",
   "execution_count": 154,
   "id": "c044d9fa",
   "metadata": {},
   "outputs": [],
   "source": [
    "# با استفاده از تابع زیر میشه کا تا یوزر مشابه رو برای هر یوزر پیدا کرد. مقدار کا در اینجا 10 در نظر گرفته شده و\n",
    "# حواسم بوده که خود کاربر رو در کاربرهای نزدیک نیارم"
   ]
  },
  {
   "cell_type": "code",
   "execution_count": 204,
   "id": "88186597",
   "metadata": {},
   "outputs": [],
   "source": [
    "from sklearn.metrics.pairwise import cosine_similarity\n",
    "\n",
    "def get_kn_users(user_id, k=10, U=U):\n",
    "    similarity_score = cosine_similarity(U[user_id].reshape(1, -1), U)[0]\n",
    "    kn_users = np.argsort(-similarity_score)[1: k+1]\n",
    "    return kn_users\n",
    "\n",
    "# kn_users = train.copy()\n",
    "# kn_users = kn_users.drop_duplicates(['user_id'], keep='last')\n",
    "# kn_users['kn_users'] = kn_users['user_id'].apply(get_kn_users)\n",
    "# kn_users.to_csv('kn_users.csv')\n",
    "\n",
    "# از اونجایی که اجرای کد های بالا کمی زمانبر بود، پس از یک بار اجرا نتیجه به دست آمده رو\n",
    "# در قالب یک فایل ذخیره کردم و برای اجراهای مجدد از فایل ذخیره شده استفاده میکنم\n",
    "\n",
    "kn_users = pd.read_csv('dataset/kn_users.csv', index_col=0)"
   ]
  },
  {
   "cell_type": "code",
   "execution_count": 205,
   "id": "808ed758",
   "metadata": {},
   "outputs": [
    {
     "data": {
      "text/html": [
       "<div>\n",
       "<style scoped>\n",
       "    .dataframe tbody tr th:only-of-type {\n",
       "        vertical-align: middle;\n",
       "    }\n",
       "\n",
       "    .dataframe tbody tr th {\n",
       "        vertical-align: top;\n",
       "    }\n",
       "\n",
       "    .dataframe thead th {\n",
       "        text-align: right;\n",
       "    }\n",
       "</style>\n",
       "<table border=\"1\" class=\"dataframe\">\n",
       "  <thead>\n",
       "    <tr style=\"text-align: right;\">\n",
       "      <th></th>\n",
       "      <th>user_id</th>\n",
       "      <th>stream_id</th>\n",
       "      <th>streamer_name</th>\n",
       "      <th>start_time</th>\n",
       "      <th>stop_time</th>\n",
       "      <th>channel_score</th>\n",
       "      <th>streamer_name_label</th>\n",
       "      <th>kn_users</th>\n",
       "    </tr>\n",
       "  </thead>\n",
       "  <tbody>\n",
       "    <tr>\n",
       "      <th>44</th>\n",
       "      <td>1</td>\n",
       "      <td>34347669376</td>\n",
       "      <td>grimnax</td>\n",
       "      <td>5415</td>\n",
       "      <td>5419</td>\n",
       "      <td>1.057210</td>\n",
       "      <td>49120</td>\n",
       "      <td>[24561, 89853, 20497, 56288, 57420, 80246, 303...</td>\n",
       "    </tr>\n",
       "    <tr>\n",
       "      <th>81</th>\n",
       "      <td>2</td>\n",
       "      <td>34294691376</td>\n",
       "      <td>sal_gu</td>\n",
       "      <td>4862</td>\n",
       "      <td>4871</td>\n",
       "      <td>0.753011</td>\n",
       "      <td>112765</td>\n",
       "      <td>[87921, 66966, 33177, 34340, 22104, 46723, 932...</td>\n",
       "    </tr>\n",
       "    <tr>\n",
       "      <th>101</th>\n",
       "      <td>3</td>\n",
       "      <td>34320336432</td>\n",
       "      <td>dakillzor</td>\n",
       "      <td>5181</td>\n",
       "      <td>5182</td>\n",
       "      <td>0.000000</td>\n",
       "      <td>26827</td>\n",
       "      <td>[64577, 56112, 36299, 63580, 76238, 69295, 423...</td>\n",
       "    </tr>\n",
       "    <tr>\n",
       "      <th>161</th>\n",
       "      <td>4</td>\n",
       "      <td>34247687792</td>\n",
       "      <td>script</td>\n",
       "      <td>4425</td>\n",
       "      <td>4429</td>\n",
       "      <td>0.509518</td>\n",
       "      <td>114530</td>\n",
       "      <td>[21052, 95830, 56288, 718, 30315, 57420, 89867...</td>\n",
       "    </tr>\n",
       "    <tr>\n",
       "      <th>165</th>\n",
       "      <td>5</td>\n",
       "      <td>34165772528</td>\n",
       "      <td>nick28t</td>\n",
       "      <td>3595</td>\n",
       "      <td>3596</td>\n",
       "      <td>1.154241</td>\n",
       "      <td>92366</td>\n",
       "      <td>[58912, 55308, 53968, 67876, 97317, 63914, 798...</td>\n",
       "    </tr>\n",
       "  </tbody>\n",
       "</table>\n",
       "</div>"
      ],
      "text/plain": [
       "     user_id    stream_id streamer_name  start_time  stop_time  channel_score  \\\n",
       "44         1  34347669376       grimnax        5415       5419       1.057210   \n",
       "81         2  34294691376        sal_gu        4862       4871       0.753011   \n",
       "101        3  34320336432     dakillzor        5181       5182       0.000000   \n",
       "161        4  34247687792        script        4425       4429       0.509518   \n",
       "165        5  34165772528       nick28t        3595       3596       1.154241   \n",
       "\n",
       "     streamer_name_label                                           kn_users  \n",
       "44                 49120  [24561, 89853, 20497, 56288, 57420, 80246, 303...  \n",
       "81                112765  [87921, 66966, 33177, 34340, 22104, 46723, 932...  \n",
       "101                26827  [64577, 56112, 36299, 63580, 76238, 69295, 423...  \n",
       "161               114530  [21052, 95830, 56288, 718, 30315, 57420, 89867...  \n",
       "165                92366  [58912, 55308, 53968, 67876, 97317, 63914, 798...  "
      ]
     },
     "execution_count": 205,
     "metadata": {},
     "output_type": "execute_result"
    }
   ],
   "source": [
    "def convert_to_int(x):\n",
    "    x = x[1:-1]\n",
    "    return np.fromstring(x, dtype=int, sep=' ')\n",
    "\n",
    "kn_users['kn_users'] = kn_users['kn_users'].apply(convert_to_int)\n",
    "kn_users.head()"
   ]
  },
  {
   "cell_type": "code",
   "execution_count": 206,
   "id": "42ae8d48",
   "metadata": {
    "scrolled": true
   },
   "outputs": [
    {
     "name": "stdout",
     "output_type": "stream",
     "text": [
      "19\n",
      "15\n",
      "8\n"
     ]
    }
   ],
   "source": [
    "# طبق نتایج به دست امده، کاربر با آی دی 1 بیشترین شباهت را به کاربر با آی دی 24561 دارد. \n",
    "# برای بررسی جزئی تر، مورد زیر بعنوان نمونه ارائه شده است\n",
    "\n",
    "user1 = train[(train['user_id']==1)]\n",
    "user24561 = train[(train['user_id']==24561)]\n",
    "print(user1.shape[0])\n",
    "print(user24561.shape[0])\n",
    "print(pd.merge(user1, user24561, how='inner', on=['streamer_name']).sort_values('streamer_name').shape[0])"
   ]
  },
  {
   "cell_type": "code",
   "execution_count": 207,
   "id": "8fef1698",
   "metadata": {},
   "outputs": [],
   "source": [
    "# شباهت دو کاربر بهم دیگه به این معنیه که تعداد کانال های مشترکشون بیشتر بوده\n",
    "# و اگه یکی از دو کاربر از کانال های دیگه خوشش بیاد احتمالا کاربر اول هم از اون کانال ها خوشش خواهد اومد\n",
    "# می تونیم از بین 10 تا کاربر نزدیک برای هر یوزر 10 تا از کانال هایی رو که در اون فعالیت داشتن رو خروجی بدیم "
   ]
  },
  {
   "cell_type": "code",
   "execution_count": 208,
   "id": "274c37bf",
   "metadata": {},
   "outputs": [],
   "source": [
    "train = train.sort_values(['user_id', 'channel_score'], ascending=[1, 0])"
   ]
  },
  {
   "cell_type": "code",
   "execution_count": 209,
   "id": "435e3f46",
   "metadata": {
    "scrolled": true
   },
   "outputs": [],
   "source": [
    "def recommend_channels(user_id, k=30, df1=kn_users, df2=train):\n",
    "    result = list()\n",
    "    similar_users = df1[df1['user_id']==user_id]['kn_users'].values\n",
    "    if len(similar_users) > 0:\n",
    "        similar_users = similar_users[0]\n",
    "        user_channel = df2[df2['user_id']==user_id]['streamer_name'].values\n",
    "        for user in similar_users:\n",
    "            similar_channel = df2[df2['user_id']==user]['streamer_name'].values\n",
    "            for ch in similar_channel:\n",
    "                if ch not in user_channel and ch not in result:\n",
    "                    result.append(ch)\n",
    "                if len(result) == k:\n",
    "                    return result\n",
    "    return result"
   ]
  },
  {
   "cell_type": "code",
   "execution_count": 210,
   "id": "61e1fe10",
   "metadata": {
    "scrolled": false
   },
   "outputs": [
    {
     "data": {
      "text/plain": [
       "['dre3dd',\n",
       " 'paplovag',\n",
       " 'cucu0015',\n",
       " 'fyrexxx',\n",
       " 'yeahunter',\n",
       " 'blyyyplays',\n",
       " 'pingvin_harcos',\n",
       " 'kd_ddave',\n",
       " 'zsozeatyaofficial',\n",
       " 'kriszhadvice',\n",
       " 'ninja',\n",
       " 'soaryn',\n",
       " 'bturbo',\n",
       " 'tsm_viss',\n",
       " 'amouranth']"
      ]
     },
     "execution_count": 210,
     "metadata": {},
     "output_type": "execute_result"
    }
   ],
   "source": [
    "# برای نمونه کانال های پیشنهادی به کاربر با آی دی 3 به صورت زیر است\n",
    "\n",
    "recommend_channels(3)"
   ]
  },
  {
   "cell_type": "code",
   "execution_count": 226,
   "id": "1b9eacbf",
   "metadata": {},
   "outputs": [],
   "source": [
    "# برای همه کاربران کانال های پیشنهادی بررسی می شود\n",
    "\n",
    "# kn_users['recom']= kn_users['user_id'].apply(recommend_channels)\n",
    "# kn_users.to_csv('kn_users_recom.csv')\n",
    "\n",
    "kn_users = pd.read_csv('dataset/kn_users_recom.csv', index_col=0)"
   ]
  },
  {
   "cell_type": "code",
   "execution_count": 227,
   "id": "74ab268c",
   "metadata": {},
   "outputs": [],
   "source": [
    "def to_str_array(x):\n",
    "    x = x[1:-1]\n",
    "    x = x.split(' ')\n",
    "    x = [item.replace('\\'', '') for item in x] \n",
    "    return [item.replace(',', '') for item in x] \n",
    "    \n",
    "kn_users['recom'] = kn_users['recom'].apply(to_str_array)\n"
   ]
  },
  {
   "cell_type": "markdown",
   "id": "5f0e69de",
   "metadata": {},
   "source": [
    "### Test & Evaluation (Solution 2)"
   ]
  },
  {
   "cell_type": "code",
   "execution_count": 228,
   "id": "2f8b9741",
   "metadata": {},
   "outputs": [],
   "source": [
    "# معیار ارزیابی این روش نیز مشابه روش قبلی است"
   ]
  },
  {
   "cell_type": "code",
   "execution_count": 229,
   "id": "12d0a2e8",
   "metadata": {},
   "outputs": [],
   "source": [
    "merged_df = temp.set_index('user_id').merge(kn_users.set_index('user_id')['recom'], left_index=True, right_index=True, how='left').set_index(temp.index)\n",
    "merged_df.insert(0, 'user_id', temp['user_id'])"
   ]
  },
  {
   "cell_type": "code",
   "execution_count": 230,
   "id": "a6ca129d",
   "metadata": {},
   "outputs": [],
   "source": [
    "def count_predictions(x):\n",
    "    if x[5] is np.nan:\n",
    "        return 0\n",
    "    return int(x[2] in x[5])\n",
    "    \n",
    "merged_df['prediction_recom'] = merged_df.apply(count_predictions, axis=1)"
   ]
  },
  {
   "cell_type": "code",
   "execution_count": 231,
   "id": "08ba9279",
   "metadata": {
    "scrolled": true
   },
   "outputs": [],
   "source": [
    "merged_df = merged_df.sort_values(['user_id', 'prediction_recom']).drop_duplicates(['user_id'], keep='last')"
   ]
  },
  {
   "cell_type": "code",
   "execution_count": 232,
   "id": "dc970095",
   "metadata": {
    "scrolled": true
   },
   "outputs": [
    {
     "data": {
      "text/plain": [
       "0.288576674383332"
      ]
     },
     "execution_count": 232,
     "metadata": {},
     "output_type": "execute_result"
    }
   ],
   "source": [
    "def hit_rate(df):\n",
    "    hit_users = df[df['prediction_recom']==1].shape[0] # تعداد یوزرهایی که حداقل در یکی از کانال های پیشنهادی ما فعالیت کرده اند \n",
    "    all_users = df.shape[0] # تعداد کل یوزرها\n",
    "    return hit_users / all_users\n",
    "\n",
    "hit_rate(merged_df)"
   ]
  },
  {
   "cell_type": "markdown",
   "id": "f8fe4f96",
   "metadata": {},
   "source": [
    "### Conclusion"
   ]
  },
  {
   "cell_type": "markdown",
   "id": "45345485",
   "metadata": {},
   "source": [
    "| Solution                                      | Recommended Channels   | Hit Rate   |\n",
    "|:----------------------------------------------|:----------------------:|:----------:|\n",
    "| Reconstruction of User/Item Matrix using SVD  | 30                     | 32%        |\n",
    "| Finding Silimar Users using Cosine Similarity | 30                     | 29%        |\n",
    "| Reconstruction of User/Item Matrix using SVD  | 10                     | 21%        |\n",
    "| Finding Silimar Users using Cosine Similarity | 10                     | 15%        |"
   ]
  },
  {
   "cell_type": "code",
   "execution_count": 233,
   "id": "172803e9",
   "metadata": {},
   "outputs": [],
   "source": [
    "# Thank you :)"
   ]
  }
 ],
 "metadata": {
  "kernelspec": {
   "display_name": "Python 3 (ipykernel)",
   "language": "python",
   "name": "python3"
  },
  "language_info": {
   "codemirror_mode": {
    "name": "ipython",
    "version": 3
   },
   "file_extension": ".py",
   "mimetype": "text/x-python",
   "name": "python",
   "nbconvert_exporter": "python",
   "pygments_lexer": "ipython3",
   "version": "3.9.5"
  }
 },
 "nbformat": 4,
 "nbformat_minor": 5
}
